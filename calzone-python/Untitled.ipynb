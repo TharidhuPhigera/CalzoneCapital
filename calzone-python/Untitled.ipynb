{
 "cells": [
  {
   "cell_type": "code",
   "execution_count": 49,
   "id": "07eeb07e",
   "metadata": {
    "scrolled": true
   },
   "outputs": [
    {
     "data": {
      "text/html": [
       "<div>\n",
       "<style scoped>\n",
       "    .dataframe tbody tr th:only-of-type {\n",
       "        vertical-align: middle;\n",
       "    }\n",
       "\n",
       "    .dataframe tbody tr th {\n",
       "        vertical-align: top;\n",
       "    }\n",
       "\n",
       "    .dataframe thead th {\n",
       "        text-align: right;\n",
       "    }\n",
       "</style>\n",
       "<table border=\"1\" class=\"dataframe\">\n",
       "  <thead>\n",
       "    <tr style=\"text-align: right;\">\n",
       "      <th></th>\n",
       "      <th>open</th>\n",
       "      <th>high</th>\n",
       "      <th>low</th>\n",
       "      <th>close</th>\n",
       "      <th>volume</th>\n",
       "    </tr>\n",
       "    <tr>\n",
       "      <th>datetime</th>\n",
       "      <th></th>\n",
       "      <th></th>\n",
       "      <th></th>\n",
       "      <th></th>\n",
       "      <th></th>\n",
       "    </tr>\n",
       "  </thead>\n",
       "  <tbody>\n",
       "    <tr>\n",
       "      <th>2004-08-19</th>\n",
       "      <td>2.49066</td>\n",
       "      <td>2.59178</td>\n",
       "      <td>2.39004</td>\n",
       "      <td>2.49913</td>\n",
       "      <td>897427216</td>\n",
       "    </tr>\n",
       "    <tr>\n",
       "      <th>2004-08-20</th>\n",
       "      <td>2.51582</td>\n",
       "      <td>2.71682</td>\n",
       "      <td>2.50312</td>\n",
       "      <td>2.69764</td>\n",
       "      <td>458857488</td>\n",
       "    </tr>\n",
       "    <tr>\n",
       "      <th>2004-08-23</th>\n",
       "      <td>2.75841</td>\n",
       "      <td>2.82641</td>\n",
       "      <td>2.71607</td>\n",
       "      <td>2.72479</td>\n",
       "      <td>366857939</td>\n",
       "    </tr>\n",
       "    <tr>\n",
       "      <th>2004-08-24</th>\n",
       "      <td>2.77062</td>\n",
       "      <td>2.77958</td>\n",
       "      <td>2.57958</td>\n",
       "      <td>2.61196</td>\n",
       "      <td>306396159</td>\n",
       "    </tr>\n",
       "    <tr>\n",
       "      <th>2004-08-25</th>\n",
       "      <td>2.61420</td>\n",
       "      <td>2.68992</td>\n",
       "      <td>2.58730</td>\n",
       "      <td>2.64010</td>\n",
       "      <td>184645512</td>\n",
       "    </tr>\n",
       "  </tbody>\n",
       "</table>\n",
       "</div>"
      ],
      "text/plain": [
       "               open     high      low    close     volume\n",
       "datetime                                                 \n",
       "2004-08-19  2.49066  2.59178  2.39004  2.49913  897427216\n",
       "2004-08-20  2.51582  2.71682  2.50312  2.69764  458857488\n",
       "2004-08-23  2.75841  2.82641  2.71607  2.72479  366857939\n",
       "2004-08-24  2.77062  2.77958  2.57958  2.61196  306396159\n",
       "2004-08-25  2.61420  2.68992  2.58730  2.64010  184645512"
      ]
     },
     "execution_count": 49,
     "metadata": {},
     "output_type": "execute_result"
    }
   ],
   "source": [
    "import math\n",
    "import numpy as np\n",
    "import pandas as pd\n",
    "import matplotlib.pyplot as plt\n",
    "from twelvedata import TDClient\n",
    "%matplotlib inline\n",
    "\n",
    "# Initialize Twelve Data client\n",
    "td = TDClient(apikey=\"7b5861f61d974edeb58bd9da0cc76789\")\n",
    "\n",
    "ts = td.time_series(\n",
    "    symbol=\"GOOG\",\n",
    "    interval=\"1day\",\n",
    "    outputsize=5000,\n",
    "    timezone=\"America/New_York\",\n",
    ")\n",
    "\n",
    "# Returns pandas.DataFrame\n",
    "df = ts.as_pandas()\n",
    "df = df.iloc[::-1]\n",
    "df.head()"
   ]
  },
  {
   "cell_type": "code",
   "execution_count": 42,
   "id": "be89110c",
   "metadata": {},
   "outputs": [
    {
     "data": {
      "text/html": [
       "<div>\n",
       "<style scoped>\n",
       "    .dataframe tbody tr th:only-of-type {\n",
       "        vertical-align: middle;\n",
       "    }\n",
       "\n",
       "    .dataframe tbody tr th {\n",
       "        vertical-align: top;\n",
       "    }\n",
       "\n",
       "    .dataframe thead th {\n",
       "        text-align: right;\n",
       "    }\n",
       "</style>\n",
       "<table border=\"1\" class=\"dataframe\">\n",
       "  <thead>\n",
       "    <tr style=\"text-align: right;\">\n",
       "      <th></th>\n",
       "      <th>open</th>\n",
       "      <th>high</th>\n",
       "      <th>low</th>\n",
       "      <th>close</th>\n",
       "      <th>volume</th>\n",
       "    </tr>\n",
       "  </thead>\n",
       "  <tbody>\n",
       "    <tr>\n",
       "      <th>count</th>\n",
       "      <td>4934.000000</td>\n",
       "      <td>4934.000000</td>\n",
       "      <td>4934.000000</td>\n",
       "      <td>4934.000000</td>\n",
       "      <td>4.934000e+03</td>\n",
       "    </tr>\n",
       "    <tr>\n",
       "      <th>mean</th>\n",
       "      <td>43.033085</td>\n",
       "      <td>43.488305</td>\n",
       "      <td>42.600135</td>\n",
       "      <td>43.052789</td>\n",
       "      <td>1.174286e+08</td>\n",
       "    </tr>\n",
       "    <tr>\n",
       "      <th>std</th>\n",
       "      <td>40.268824</td>\n",
       "      <td>40.722709</td>\n",
       "      <td>39.866029</td>\n",
       "      <td>40.300857</td>\n",
       "      <td>1.505428e+08</td>\n",
       "    </tr>\n",
       "    <tr>\n",
       "      <th>min</th>\n",
       "      <td>2.470490</td>\n",
       "      <td>2.534000</td>\n",
       "      <td>2.390040</td>\n",
       "      <td>2.490910</td>\n",
       "      <td>1.590750e+05</td>\n",
       "    </tr>\n",
       "    <tr>\n",
       "      <th>25%</th>\n",
       "      <td>12.916900</td>\n",
       "      <td>13.045418</td>\n",
       "      <td>12.787070</td>\n",
       "      <td>12.922185</td>\n",
       "      <td>2.807765e+07</td>\n",
       "    </tr>\n",
       "    <tr>\n",
       "      <th>50%</th>\n",
       "      <td>26.787305</td>\n",
       "      <td>26.958355</td>\n",
       "      <td>26.570000</td>\n",
       "      <td>26.755000</td>\n",
       "      <td>5.878378e+07</td>\n",
       "    </tr>\n",
       "    <tr>\n",
       "      <th>75%</th>\n",
       "      <td>58.835000</td>\n",
       "      <td>59.340000</td>\n",
       "      <td>58.140000</td>\n",
       "      <td>58.777500</td>\n",
       "      <td>1.454240e+08</td>\n",
       "    </tr>\n",
       "    <tr>\n",
       "      <th>max</th>\n",
       "      <td>154.009990</td>\n",
       "      <td>155.200000</td>\n",
       "      <td>152.920000</td>\n",
       "      <td>154.840000</td>\n",
       "      <td>1.650833e+09</td>\n",
       "    </tr>\n",
       "  </tbody>\n",
       "</table>\n",
       "</div>"
      ],
      "text/plain": [
       "              open         high          low        close        volume\n",
       "count  4934.000000  4934.000000  4934.000000  4934.000000  4.934000e+03\n",
       "mean     43.033085    43.488305    42.600135    43.052789  1.174286e+08\n",
       "std      40.268824    40.722709    39.866029    40.300857  1.505428e+08\n",
       "min       2.470490     2.534000     2.390040     2.490910  1.590750e+05\n",
       "25%      12.916900    13.045418    12.787070    12.922185  2.807765e+07\n",
       "50%      26.787305    26.958355    26.570000    26.755000  5.878378e+07\n",
       "75%      58.835000    59.340000    58.140000    58.777500  1.454240e+08\n",
       "max     154.009990   155.200000   152.920000   154.840000  1.650833e+09"
      ]
     },
     "execution_count": 42,
     "metadata": {},
     "output_type": "execute_result"
    }
   ],
   "source": [
    "df.describe()"
   ]
  },
  {
   "cell_type": "code",
   "execution_count": 43,
   "id": "f48aa608",
   "metadata": {},
   "outputs": [],
   "source": [
    "def plot_graph(figsize, values, column_name):\n",
    "    plt.figure()\n",
    "    values.plot(figsize = figsize)\n",
    "    plt.xlabel(\"years\")\n",
    "    plt.ylabel(column_name)\n",
    "    plt.title(f\"{column_name} of AAPL\")"
   ]
  },
  {
   "cell_type": "code",
   "execution_count": 50,
   "id": "5ef86cab",
   "metadata": {
    "scrolled": true
   },
   "outputs": [
    {
     "name": "stdout",
     "output_type": "stream",
     "text": [
      "2021 252\n",
      "2022 251\n",
      "2023 250\n",
      "2024 59\n"
     ]
    }
   ],
   "source": [
    "for i in range(2021,2025):\n",
    "    print(i, list(df.index.year).count(i))"
   ]
  },
  {
   "cell_type": "code",
   "execution_count": 51,
   "id": "562f7d38",
   "metadata": {},
   "outputs": [],
   "source": [
    "df['MA_for_250_days'] = df['close'].rolling(250).mean()"
   ]
  },
  {
   "cell_type": "code",
   "execution_count": 53,
   "id": "5261358b",
   "metadata": {},
   "outputs": [
    {
     "data": {
      "text/plain": [
       "<Figure size 640x480 with 0 Axes>"
      ]
     },
     "metadata": {},
     "output_type": "display_data"
    },
    {
     "data": {
      "image/png": "[encoded data removed]",
      "text/plain": [
       "<Figure size 1500x500 with 1 Axes>"
      ]
     },
     "metadata": {},
     "output_type": "display_data"
    }
   ],
   "source": [
    "plot_graph((15,5), df[['MA_for_250_days','close']], 'MA_for_250_days')"
   ]
  },
  {
   "cell_type": "code",
   "execution_count": 54,
   "id": "ab5d0895",
   "metadata": {},
   "outputs": [],
   "source": [
    "df['percentage_change'] = df['close'].pct_change()"
   ]
  },
  {
   "cell_type": "code",
   "execution_count": 56,
   "id": "15677234",
   "metadata": {},
   "outputs": [
    {
     "data": {
      "text/plain": [
       "(array([154.84]), array([2.49091]))"
      ]
     },
     "execution_count": 56,
     "metadata": {},
     "output_type": "execute_result"
    }
   ],
   "source": [
    "close_price = df[['close']]\n",
    "max(close_price.values), min(close_price.values)"
   ]
  },
  {
   "cell_type": "code",
   "execution_count": 57,
   "id": "403a81fa",
   "metadata": {},
   "outputs": [
    {
     "data": {
      "text/plain": [
       "array([[5.39550318e-05],\n",
       "       [1.35694936e-03],\n",
       "       [1.53515850e-03],\n",
       "       ...,\n",
       "       [9.79848911e-01],\n",
       "       [9.75779245e-01],\n",
       "       [9.84181002e-01]])"
      ]
     },
     "execution_count": 57,
     "metadata": {},
     "output_type": "execute_result"
    }
   ],
   "source": [
    "from sklearn.preprocessing import MinMaxScaler\n",
    "\n",
    "scaler = MinMaxScaler(feature_range = (0,1))\n",
    "scaled_data = scaler.fit_transform(close_price)\n",
    "scaled_data"
   ]
  },
  {
   "cell_type": "code",
   "execution_count": 60,
   "id": "14e6f2d7",
   "metadata": {},
   "outputs": [
    {
     "data": {
      "text/plain": [
       "(array([[5.39550318e-05],\n",
       "        [1.35694936e-03],\n",
       "        [1.53515850e-03],\n",
       "        [7.94556764e-04],\n",
       "        [9.79264136e-04],\n",
       "        [1.29157319e-03],\n",
       "        [1.00381302e-03],\n",
       "        [3.27012127e-04],\n",
       "        [3.85824425e-04],\n",
       "        [3.92519575e-05],\n",
       "        [2.45226276e-04],\n",
       "        [0.00000000e+00],\n",
       "        [2.56713053e-04],\n",
       "        [3.74403287e-04],\n",
       "        [3.76044255e-04],\n",
       "        [8.69778743e-04],\n",
       "        [1.22449041e-03],\n",
       "        [1.87680806e-03],\n",
       "        [1.96016924e-03],\n",
       "        [2.28225846e-03],\n",
       "        [2.85771316e-03],\n",
       "        [3.16345834e-03],\n",
       "        [2.91495013e-03],\n",
       "        [3.00323422e-03],\n",
       "        [3.40212075e-03],\n",
       "        [3.24025565e-03],\n",
       "        [2.98360824e-03],\n",
       "        [4.38958972e-03],\n",
       "        [5.07945272e-03],\n",
       "        [4.83750838e-03],\n",
       "        [5.32467900e-03],\n",
       "        [5.73012940e-03],\n",
       "        [6.27125505e-03],\n",
       "        [6.06035783e-03],\n",
       "        [6.34975896e-03],\n",
       "        [6.16662692e-03],\n",
       "        [5.76281749e-03],\n",
       "        [6.11267189e-03],\n",
       "        [6.68491029e-03],\n",
       "        [6.86469476e-03],\n",
       "        [7.20969190e-03],\n",
       "        [8.03529578e-03],\n",
       "        [7.83581970e-03],\n",
       "        [6.61782752e-03],\n",
       "        [8.07120016e-03],\n",
       "        [1.18395194e-02],\n",
       "        [1.42868592e-02],\n",
       "        [1.33713959e-02],\n",
       "        [1.40531197e-02],\n",
       "        [1.52514203e-02],\n",
       "        [1.48165637e-02],\n",
       "        [1.56977636e-02],\n",
       "        [1.55081333e-02],\n",
       "        [1.49849927e-02],\n",
       "        [1.38455044e-02],\n",
       "        [1.13360047e-02],\n",
       "        [1.18591453e-02],\n",
       "        [1.12297356e-02],\n",
       "        [1.10924194e-02],\n",
       "        [1.35708064e-02],\n",
       "        [1.34040840e-02],\n",
       "        [1.38732696e-02],\n",
       "        [1.18575044e-02],\n",
       "        [1.18510061e-02],\n",
       "        [1.10401053e-02],\n",
       "        [1.13441439e-02],\n",
       "        [1.06412188e-02],\n",
       "        [1.10368234e-02],\n",
       "        [1.22204209e-02],\n",
       "        [1.29773667e-02],\n",
       "        [1.32487828e-02],\n",
       "        [1.34008021e-02],\n",
       "        [1.30705736e-02],\n",
       "        [1.29790076e-02],\n",
       "        [1.31425137e-02],\n",
       "        [1.24705701e-02],\n",
       "        [1.16760789e-02],\n",
       "        [1.14389919e-02],\n",
       "        [1.20030254e-02],\n",
       "        [1.17120490e-02],\n",
       "        [1.15158548e-02],\n",
       "        [1.28629584e-02],\n",
       "        [1.30411675e-02],\n",
       "        [1.25000418e-02],\n",
       "        [1.30901996e-02],\n",
       "        [1.38978185e-02],\n",
       "        [1.36902032e-02],\n",
       "        [1.41070747e-02],\n",
       "        [1.43686451e-02],\n",
       "        [1.50241790e-02],\n",
       "        [1.51631362e-02],\n",
       "        [1.51860441e-02],\n",
       "        [1.59544110e-02],\n",
       "        [1.51680591e-02],\n",
       "        [1.67898607e-02],\n",
       "        [1.54476144e-02],\n",
       "        [1.52857493e-02],\n",
       "        [1.44749142e-02],\n",
       "        [1.53413453e-02],\n",
       "        [1.55391804e-02]]),\n",
       " array([0.01529067]))"
      ]
     },
     "execution_count": 60,
     "metadata": {},
     "output_type": "execute_result"
    }
   ],
   "source": [
    "x_data = []\n",
    "y_data = []\n",
    "\n",
    "for i in range(100, len(scaled_data)):\n",
    "    x_data.append(scaled_data[i-100:i])\n",
    "    y_data.append(scaled_data[i])\n",
    "    \n",
    "x_data, y_data = np.array(x_data), np.array(y_data)\n",
    "x_data[0], y_data[0]"
   ]
  },
  {
   "cell_type": "code",
   "execution_count": 73,
   "id": "52fe0e30",
   "metadata": {},
   "outputs": [
    {
     "name": "stdout",
     "output_type": "stream",
     "text": [
      "3383\n",
      "1451\n",
      "(3383, 100, 1)\n",
      "(3383, 1)\n",
      "(1451, 100, 1)\n",
      "(1451, 1)\n"
     ]
    }
   ],
   "source": [
    "# print(int(len(x_data)*0.7))\n",
    "# print(len(scaled_data)-100-int(len(x_data)*0.7))\n",
    "\n",
    "splitting_len = int(len(x_data)*0.7)\n",
    "x_train = x_data[:splitting_len]\n",
    "y_train = y_data[:splitting_len]\n",
    "\n",
    "x_test = x_data[splitting_len:]\n",
    "y_test = y_data[splitting_len:]\n",
    "\n",
    "print(x_train.shape)\n",
    "print(y_train.shape)\n",
    "print(x_test.shape)\n",
    "print(y_test.shape)"
   ]
  },
  {
   "cell_type": "code",
   "execution_count": 75,
   "id": "b26d293f",
   "metadata": {},
   "outputs": [
    {
     "name": "stdout",
     "output_type": "stream",
     "text": [
      "Collecting tensorflow\n",
      "  Downloading tensorflow-2.16.1-cp310-cp310-macosx_12_0_arm64.whl.metadata (4.1 kB)\n",
      "Requirement already satisfied: keras in /Users/tharidhu/miniforge3/lib/python3.10/site-packages (2.15.0)\n",
      "Collecting keras\n",
      "  Downloading keras-3.1.1-py3-none-any.whl.metadata (5.6 kB)\n",
      "Requirement already satisfied: absl-py>=1.0.0 in /Users/tharidhu/miniforge3/lib/python3.10/site-packages (from tensorflow) (2.1.0)\n",
      "Requirement already satisfied: astunparse>=1.6.0 in /Users/tharidhu/miniforge3/lib/python3.10/site-packages (from tensorflow) (1.6.3)\n",
      "Requirement already satisfied: flatbuffers>=23.5.26 in /Users/tharidhu/miniforge3/lib/python3.10/site-packages (from tensorflow) (24.3.7)\n",
      "Requirement already satisfied: gast!=0.5.0,!=0.5.1,!=0.5.2,>=0.2.1 in /Users/tharidhu/miniforge3/lib/python3.10/site-packages (from tensorflow) (0.5.4)\n",
      "Requirement already satisfied: google-pasta>=0.1.1 in /Users/tharidhu/miniforge3/lib/python3.10/site-packages (from tensorflow) (0.2.0)\n",
      "Requirement already satisfied: h5py>=3.10.0 in /Users/tharidhu/miniforge3/lib/python3.10/site-packages (from tensorflow) (3.10.0)\n",
      "Requirement already satisfied: libclang>=13.0.0 in /Users/tharidhu/miniforge3/lib/python3.10/site-packages (from tensorflow) (16.0.6)\n",
      "Collecting ml-dtypes~=0.3.1 (from tensorflow)\n",
      "  Downloading ml_dtypes-0.3.2-cp310-cp310-macosx_10_9_universal2.whl.metadata (20 kB)\n",
      "Requirement already satisfied: opt-einsum>=2.3.2 in /Users/tharidhu/miniforge3/lib/python3.10/site-packages (from tensorflow) (3.3.0)\n",
      "Requirement already satisfied: packaging in /Users/tharidhu/miniforge3/lib/python3.10/site-packages (from tensorflow) (23.2)\n",
      "Requirement already satisfied: protobuf!=4.21.0,!=4.21.1,!=4.21.2,!=4.21.3,!=4.21.4,!=4.21.5,<5.0.0dev,>=3.20.3 in /Users/tharidhu/miniforge3/lib/python3.10/site-packages (from tensorflow) (4.25.3)\n",
      "Requirement already satisfied: requests<3,>=2.21.0 in /Users/tharidhu/miniforge3/lib/python3.10/site-packages (from tensorflow) (2.31.0)\n",
      "Requirement already satisfied: setuptools in /Users/tharidhu/miniforge3/lib/python3.10/site-packages (from tensorflow) (68.2.2)\n",
      "Requirement already satisfied: six>=1.12.0 in /Users/tharidhu/miniforge3/lib/python3.10/site-packages (from tensorflow) (1.16.0)\n",
      "Requirement already satisfied: termcolor>=1.1.0 in /Users/tharidhu/miniforge3/lib/python3.10/site-packages (from tensorflow) (2.4.0)\n",
      "Requirement already satisfied: typing-extensions>=3.6.6 in /Users/tharidhu/miniforge3/lib/python3.10/site-packages (from tensorflow) (4.10.0)\n",
      "Requirement already satisfied: wrapt>=1.11.0 in /Users/tharidhu/miniforge3/lib/python3.10/site-packages (from tensorflow) (1.14.1)\n",
      "Requirement already satisfied: grpcio<2.0,>=1.24.3 in /Users/tharidhu/miniforge3/lib/python3.10/site-packages (from tensorflow) (1.62.1)\n",
      "Collecting tensorboard<2.17,>=2.16 (from tensorflow)\n",
      "  Using cached tensorboard-2.16.2-py3-none-any.whl.metadata (1.6 kB)\n",
      "Requirement already satisfied: tensorflow-io-gcs-filesystem>=0.23.1 in /Users/tharidhu/miniforge3/lib/python3.10/site-packages (from tensorflow) (0.36.0)\n",
      "Requirement already satisfied: numpy<2.0.0,>=1.23.5 in /Users/tharidhu/miniforge3/lib/python3.10/site-packages (from tensorflow) (1.26.4)\n",
      "Collecting rich (from keras)\n",
      "  Downloading rich-13.7.1-py3-none-any.whl.metadata (18 kB)\n",
      "Collecting namex (from keras)\n",
      "  Downloading namex-0.0.7-py3-none-any.whl.metadata (246 bytes)\n",
      "Collecting optree (from keras)\n",
      "  Downloading optree-0.11.0-cp310-cp310-macosx_11_0_arm64.whl.metadata (45 kB)\n",
      "\u001b[2K     \u001b[38;2;114;156;31m━━━━━━━━━━━━━━━━━━━━━━━━━━━━━━━━━━━━━━━━\u001b[0m \u001b[32m45.4/45.4 kB\u001b[0m \u001b[31m4.2 MB/s\u001b[0m eta \u001b[36m0:00:00\u001b[0m\n",
      "\u001b[?25hRequirement already satisfied: wheel<1.0,>=0.23.0 in /Users/tharidhu/miniforge3/lib/python3.10/site-packages (from astunparse>=1.6.0->tensorflow) (0.42.0)\n",
      "Requirement already satisfied: charset-normalizer<4,>=2 in /Users/tharidhu/miniforge3/lib/python3.10/site-packages (from requests<3,>=2.21.0->tensorflow) (3.3.2)\n",
      "Requirement already satisfied: idna<4,>=2.5 in /Users/tharidhu/miniforge3/lib/python3.10/site-packages (from requests<3,>=2.21.0->tensorflow) (3.6)\n",
      "Requirement already satisfied: urllib3<3,>=1.21.1 in /Users/tharidhu/miniforge3/lib/python3.10/site-packages (from requests<3,>=2.21.0->tensorflow) (2.1.0)\n",
      "Requirement already satisfied: certifi>=2017.4.17 in /Users/tharidhu/miniforge3/lib/python3.10/site-packages (from requests<3,>=2.21.0->tensorflow) (2024.2.2)\n",
      "Requirement already satisfied: markdown>=2.6.8 in /Users/tharidhu/miniforge3/lib/python3.10/site-packages (from tensorboard<2.17,>=2.16->tensorflow) (3.5.2)\n",
      "Requirement already satisfied: tensorboard-data-server<0.8.0,>=0.7.0 in /Users/tharidhu/miniforge3/lib/python3.10/site-packages (from tensorboard<2.17,>=2.16->tensorflow) (0.7.2)\n",
      "Requirement already satisfied: werkzeug>=1.0.1 in /Users/tharidhu/miniforge3/lib/python3.10/site-packages (from tensorboard<2.17,>=2.16->tensorflow) (3.0.1)\n",
      "Collecting markdown-it-py>=2.2.0 (from rich->keras)\n",
      "  Downloading markdown_it_py-3.0.0-py3-none-any.whl.metadata (6.9 kB)\n",
      "Collecting pygments<3.0.0,>=2.13.0 (from rich->keras)\n",
      "  Downloading pygments-2.17.2-py3-none-any.whl.metadata (2.6 kB)\n",
      "Collecting mdurl~=0.1 (from markdown-it-py>=2.2.0->rich->keras)\n",
      "  Downloading mdurl-0.1.2-py3-none-any.whl.metadata (1.6 kB)\n",
      "Requirement already satisfied: MarkupSafe>=2.1.1 in /Users/tharidhu/miniforge3/lib/python3.10/site-packages (from werkzeug>=1.0.1->tensorboard<2.17,>=2.16->tensorflow) (2.1.5)\n",
      "Downloading tensorflow-2.16.1-cp310-cp310-macosx_12_0_arm64.whl (227.0 MB)\n",
      "\u001b[2K   \u001b[38;2;114;156;31m━━━━━━━━━━━━━━━━━━━━━━━━━━━━━━━━━━━━━━━━\u001b[0m \u001b[32m227.0/227.0 MB\u001b[0m \u001b[31m3.0 MB/s\u001b[0m eta \u001b[36m0:00:00\u001b[0mm eta \u001b[36m0:00:01\u001b[0m[36m0:00:02\u001b[0m\n",
      "\u001b[?25hDownloading keras-3.1.1-py3-none-any.whl (1.1 MB)\n",
      "\u001b[2K   \u001b[38;2;114;156;31m━━━━━━━━━━━━━━━━━━━━━━━━━━━━━━━━━━━━━━━━\u001b[0m \u001b[32m1.1/1.1 MB\u001b[0m \u001b[31m12.0 MB/s\u001b[0m eta \u001b[36m0:00:00\u001b[0mm eta \u001b[36m0:00:01\u001b[0m[36m0:00:01\u001b[0m\n",
      "\u001b[?25hDownloading ml_dtypes-0.3.2-cp310-cp310-macosx_10_9_universal2.whl (389 kB)\n",
      "\u001b[2K   \u001b[38;2;114;156;31m━━━━━━━━━━━━━━━━━━━━━━━━━━━━━━━━━━━━━━━━\u001b[0m \u001b[32m389.8/389.8 kB\u001b[0m \u001b[31m10.4 MB/s\u001b[0m eta \u001b[36m0:00:00\u001b[0m\n",
      "\u001b[?25hUsing cached tensorboard-2.16.2-py3-none-any.whl (5.5 MB)\n",
      "Downloading namex-0.0.7-py3-none-any.whl (5.8 kB)\n",
      "Downloading optree-0.11.0-cp310-cp310-macosx_11_0_arm64.whl (273 kB)\n",
      "\u001b[2K   \u001b[38;2;114;156;31m━━━━━━━━━━━━━━━━━━━━━━━━━━━━━━━━━━━━━━━━\u001b[0m \u001b[32m273.3/273.3 kB\u001b[0m \u001b[31m10.5 MB/s\u001b[0m eta \u001b[36m0:00:00\u001b[0m\n",
      "\u001b[?25hDownloading rich-13.7.1-py3-none-any.whl (240 kB)\n",
      "\u001b[2K   \u001b[38;2;114;156;31m━━━━━━━━━━━━━━━━━━━━━━━━━━━━━━━━━━━━━━━━\u001b[0m \u001b[32m240.7/240.7 kB\u001b[0m \u001b[31m10.4 MB/s\u001b[0m eta \u001b[36m0:00:00\u001b[0m\n",
      "\u001b[?25hDownloading markdown_it_py-3.0.0-py3-none-any.whl (87 kB)\n",
      "\u001b[2K   \u001b[38;2;114;156;31m━━━━━━━━━━━━━━━━━━━━━━━━━━━━━━━━━━━━━━━━\u001b[0m \u001b[32m87.5/87.5 kB\u001b[0m \u001b[31m3.7 MB/s\u001b[0m eta \u001b[36m0:00:00\u001b[0m\n",
      "\u001b[?25hDownloading pygments-2.17.2-py3-none-any.whl (1.2 MB)\n",
      "\u001b[2K   \u001b[38;2;114;156;31m━━━━━━━━━━━━━━━━━━━━━━━━━━━━━━━━━━━━━━━━\u001b[0m \u001b[32m1.2/1.2 MB\u001b[0m \u001b[31m13.1 MB/s\u001b[0m eta \u001b[36m0:00:00\u001b[0mm eta \u001b[36m0:00:01\u001b[0m[36m0:00:01\u001b[0m\n",
      "\u001b[?25hDownloading mdurl-0.1.2-py3-none-any.whl (10.0 kB)\n",
      "Installing collected packages: namex, pygments, optree, ml-dtypes, mdurl, tensorboard, markdown-it-py, rich, keras, tensorflow\n",
      "  Attempting uninstall: ml-dtypes\n",
      "    Found existing installation: ml-dtypes 0.2.0\n",
      "    Uninstalling ml-dtypes-0.2.0:\n",
      "      Successfully uninstalled ml-dtypes-0.2.0\n",
      "  Attempting uninstall: tensorboard\n",
      "    Found existing installation: tensorboard 2.15.2\n",
      "    Uninstalling tensorboard-2.15.2:\n",
      "      Successfully uninstalled tensorboard-2.15.2\n",
      "  Attempting uninstall: keras\n",
      "    Found existing installation: keras 2.15.0\n",
      "    Uninstalling keras-2.15.0:\n",
      "      Successfully uninstalled keras-2.15.0\n",
      "\u001b[31mERROR: pip's dependency resolver does not currently take into account all the packages that are installed. This behaviour is the source of the following dependency conflicts.\n",
      "tensorflow-macos 2.15.0 requires keras<2.16,>=2.15.0, but you have keras 3.1.1 which is incompatible.\n",
      "tensorflow-macos 2.15.0 requires ml-dtypes~=0.2.0, but you have ml-dtypes 0.3.2 which is incompatible.\n",
      "tensorflow-macos 2.15.0 requires tensorboard<2.16,>=2.15, but you have tensorboard 2.16.2 which is incompatible.\u001b[0m\u001b[31m\n",
      "\u001b[0mSuccessfully installed keras-3.1.1 markdown-it-py-3.0.0 mdurl-0.1.2 ml-dtypes-0.3.2 namex-0.0.7 optree-0.11.0 pygments-2.17.2 rich-13.7.1 tensorboard-2.16.2 tensorflow-2.16.1\n"
     ]
    }
   ],
   "source": [
    "!pip install --upgrade tensorflow keras"
   ]
  },
  {
   "cell_type": "code",
   "execution_count": 77,
   "id": "3cb54c24",
   "metadata": {},
   "outputs": [
    {
     "ename": "NameError",
     "evalue": "name 'Sequential' is not defined",
     "output_type": "error",
     "traceback": [
      "\u001b[0;31m---------------------------------------------------------------------------\u001b[0m",
      "\u001b[0;31mNameError\u001b[0m                                 Traceback (most recent call last)",
      "Cell \u001b[0;32mIn[77], line 1\u001b[0m\n\u001b[0;32m----> 1\u001b[0m model \u001b[38;5;241m=\u001b[39m \u001b[43mSequential\u001b[49m()\n\u001b[1;32m      2\u001b[0m model\u001b[38;5;241m.\u001b[39madd(LSTM(\u001b[38;5;241m128\u001b[39m,return_sequences\u001b[38;5;241m=\u001b[39m\u001b[38;5;28;01mTrue\u001b[39;00m, input_shape\u001b[38;5;241m=\u001b[39m(x_train\u001b[38;5;241m.\u001b[39mshape[\u001b[38;5;241m1\u001b[39m],\u001b[38;5;241m1\u001b[39m)))\n\u001b[1;32m      3\u001b[0m model\u001b[38;5;241m.\u001b[39madd(LSTM(\u001b[38;5;241m64\u001b[39m,return_sequences\u001b[38;5;241m=\u001b[39m\u001b[38;5;28;01mFalse\u001b[39;00m))\n",
      "\u001b[0;31mNameError\u001b[0m: name 'Sequential' is not defined"
     ]
    }
   ],
   "source": [
    "model = Sequential()\n",
    "model.add(LSTM(128,return_sequences=True, input_shape=(x_train.shape[1],1)))\n",
    "model.add(LSTM(64,return_sequences=False))\n",
    "model.add(Dense(25))\n",
    "model.add(Dense(1))\n",
    "model.compile(optimizer='adam', loss='mean_squared_error')\n",
    "\n",
    "model.fit(x_train, y_train, batch_size=1, epoch=2)"
   ]
  },
  {
   "cell_type": "code",
   "execution_count": null,
   "id": "5b25e99b",
   "metadata": {},
   "outputs": [],
   "source": [
    "predictions = model.predict(x_test)"
   ]
  }
 ],
 "metadata": {
  "kernelspec": {
   "display_name": "Python 3 (ipykernel)",
   "language": "python",
   "name": "python3"
  },
  "language_info": {
   "codemirror_mode": {
    "name": "ipython",
    "version": 3
   },
   "file_extension": ".py",
   "mimetype": "text/x-python",
   "name": "python",
   "nbconvert_exporter": "python",
   "pygments_lexer": "ipython3",
   "version": "3.9.16"
  }
 },
 "nbformat": 4,
 "nbformat_minor": 5
}
